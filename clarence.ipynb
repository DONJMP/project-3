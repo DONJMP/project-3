{
 "cells": [
  {
   "cell_type": "code",
   "execution_count": 5,
   "metadata": {},
   "outputs": [],
   "source": [
    "# Import necessary libraries\n",
    "import yfinance as yf\n",
    "import streamlit as st\n",
    "from PIL import Image\n",
    "from urllib.request import urlopen\n",
    "import matplotlib.pyplot as plt\n",
    "import pandas as pd\n"
   ]
  },
  {
   "cell_type": "code",
   "execution_count": 6,
   "metadata": {},
   "outputs": [],
   "source": [
    "# Define ticker symbol\n",
    "Bitcoin = 'BTC-USD'\n",
    "Ethereum = 'ETH-USD'\n",
    "Litecoin = 'LTC-USD'\n",
    "Ripple = 'XRP-USD'\n",
    "Dogecoin = 'DOGE-USD'\n",
    "Cardano = 'ADA-USD'\n",
    "Polkadot = 'DOT1-USD'\n",
    "Chainlink = 'LINK-USD'\n",
    "Stellar = 'XLM-USD'\n",
    "VeChain = 'VET-USD'\n",
    "Tether = 'USDT-USD'\n",
    "Bitcoin_Cash = 'BCH-USD'"
   ]
  },
  {
   "cell_type": "code",
   "execution_count": 7,
   "metadata": {},
   "outputs": [],
   "source": [
    "# Access the data\n",
    "ticker = yf.Ticker(Bitcoin)\n",
    "ticker1 = yf.Ticker(Ethereum)\n",
    "ticker2 = yf.Ticker(Litecoin)\n",
    "ticker3 = yf.Ticker(Ripple)\n",
    "ticker4 = yf.Ticker(Dogecoin)\n",
    "ticker5 = yf.Ticker(Cardano)\n",
    "ticker6 = yf.Ticker(Polkadot)\n",
    "ticker7 = yf.Ticker(Chainlink)\n",
    "ticker8 = yf.Ticker(Stellar)\n",
    "ticker9 = yf.Ticker(VeChain)\n",
    "ticker10 = yf.Ticker(Tether)\n",
    "ticker11 = yf.Ticker(Bitcoin_Cash)"
   ]
  },
  {
   "cell_type": "code",
   "execution_count": 10,
   "metadata": {},
   "outputs": [],
   "source": [
    "# Get historical market data\n",
    "hist = ticker.history(period=\"max\")\n",
    "hist1 = ticker1.history(period=\"max\")\n",
    "hist2 = ticker2.history(period=\"max\")\n",
    "hist3 = ticker3.history(period=\"max\")\n",
    "hist4 = ticker4.history(period=\"max\")\n",
    "hist5 = ticker5.history(period=\"max\")\n",
    "hist6 = ticker6.history(period=\"max\")\n",
    "hist7 = ticker7.history(period=\"max\")\n",
    "hist8 = ticker8.history(period=\"max\")\n",
    "hist9 = ticker9.history(period=\"max\")\n",
    "hist10 = ticker10.history(period=\"max\")\n",
    "hist11 = ticker11.history(period=\"max\")"
   ]
  },
  {
   "cell_type": "code",
   "execution_count": null,
   "metadata": {},
   "outputs": [],
   "source": []
  }
 ],
 "metadata": {
  "kernelspec": {
   "display_name": "dev",
   "language": "python",
   "name": "python3"
  },
  "language_info": {
   "codemirror_mode": {
    "name": "ipython",
    "version": 3
   },
   "file_extension": ".py",
   "mimetype": "text/x-python",
   "name": "python",
   "nbconvert_exporter": "python",
   "pygments_lexer": "ipython3",
   "version": "3.10.12"
  }
 },
 "nbformat": 4,
 "nbformat_minor": 2
}
